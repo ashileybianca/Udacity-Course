{
 "cells": [
  {
   "cell_type": "code",
   "execution_count": 1,
   "metadata": {},
   "outputs": [],
   "source": [
    "# -*- coding: utf-8 -*-\n",
    "\n",
    "import numpy as np\n",
    "\n",
    "def softmax(L):\n",
    "    \n",
    "    expL = np.exp(L) # calcula o exponencial de cada elemento da lista L=[5,6,7]\n",
    "    sumExpL = np.sum(expL) #  soma de todos os elementos em expL\n",
    "    \n",
    "    result = [] # vetor para armazenar os resultados das divisões (softmax)\n",
    "    \n",
    "    for i in expL:\n",
    "        result.append(i / sumExpL)\n",
    "    return result\n",
    "\n"
   ]
  },
  {
   "cell_type": "markdown",
   "metadata": {},
   "source": [
    "Nice! You got it all correct. Input 1 Input 2 Linear Combination Activation Output Is Correct 0 0 -1.5 0 Yes 0 1 -0.5 0 Yes 1 0 -0.5 0 Yes 1 1 0.5 1 Yes"
   ]
  }
 ],
 "metadata": {
  "kernelspec": {
   "display_name": "Python 3",
   "language": "python",
   "name": "python3"
  },
  "language_info": {
   "codemirror_mode": {
    "name": "ipython",
    "version": 3
   },
   "file_extension": ".py",
   "mimetype": "text/x-python",
   "name": "python",
   "nbconvert_exporter": "python",
   "pygments_lexer": "ipython3",
   "version": "3.10.10"
  }
 },
 "nbformat": 4,
 "nbformat_minor": 2
}
