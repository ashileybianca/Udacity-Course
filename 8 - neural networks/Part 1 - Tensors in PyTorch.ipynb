{
 "cells": [
  {
   "cell_type": "code",
   "execution_count": 76,
   "metadata": {},
   "outputs": [],
   "source": [
    "import torch"
   ]
  },
  {
   "cell_type": "code",
   "execution_count": 77,
   "metadata": {},
   "outputs": [],
   "source": [
    "def activation(x):\n",
    "    '''sigmoid function\n",
    "    fornece valores entre 0 e 1 (precisamos para a probabilidade)'''\n",
    "    return 1/ (1 + torch.exp(-x))"
   ]
  },
  {
   "cell_type": "code",
   "execution_count": 78,
   "metadata": {},
   "outputs": [],
   "source": [
    "torch.manual_seed(7) \n",
    "# se removesse = os números aleatórios gerados por torch.randn e torch.randn_like seriam diferentes em cada execução do código.\n",
    "\n",
    "features = torch.randn((1, 5)) # bidimensional, 1 linha, 5 colunas.\n",
    "\n",
    "weights = torch.randn_like(features) #com o mesmo formato de features.\n",
    "\n",
    "bias = torch.randn((1,1)) #uma variavel apenas."
   ]
  },
  {
   "attachments": {
    "image.png": {
     "image/png": "[encoded data removed]"
    }
   },
   "cell_type": "markdown",
   "metadata": {},
   "source": [
    "Calcular a saída da rede neural:\n",
    "\n",
    "![image.png](attachment:image.png)"
   ]
  },
  {
   "cell_type": "code",
   "execution_count": 79,
   "metadata": {},
   "outputs": [],
   "source": [
    "y = activation(torch.sum(features * weights) + bias)\n",
    "# y = activation((features * weights).sum() + bias)"
   ]
  },
  {
   "cell_type": "code",
   "execution_count": 80,
   "metadata": {},
   "outputs": [
    {
     "name": "stdout",
     "output_type": "stream",
     "text": [
      "torch.Size([1, 1])\n",
      "torch.Size([1, 5])\n",
      "torch.Size([1, 5])\n",
      "torch.Size([1, 1])\n"
     ]
    }
   ],
   "source": [
    "# A propriedade shape de um tensor em PyTorch retorna uma tupla representando as dimensões do tensor.\n",
    " \n",
    "print(y.shape)\n",
    "print(weights.shape)\n",
    "print(features.shape)\n",
    "print(bias.shape)"
   ]
  },
  {
   "cell_type": "code",
   "execution_count": 81,
   "metadata": {},
   "outputs": [],
   "source": [
    "# O método reshape é usado para alterar a forma (ou dimensões) de um tensor, desde que o número total de elementos permaneça o mesmo. Ele retorna um novo tensor com a forma especificada.\n",
    "\n",
    "tensor = torch.randn(2, 3)  # Um tensor 2x3\n",
    "reshaped_tensor = tensor.reshape(3, 2)  # Redimensiona para 3x2"
   ]
  },
  {
   "cell_type": "code",
   "execution_count": 82,
   "metadata": {},
   "outputs": [
    {
     "data": {
      "text/plain": [
       "tensor([[ 0.2028,  2.4505],\n",
       "        [ 2.0256,  1.7792],\n",
       "        [-0.9179, -0.4578]])"
      ]
     },
     "execution_count": 82,
     "metadata": {},
     "output_type": "execute_result"
    }
   ],
   "source": [
    "# O método resize também é usado para alterar a forma de um tensor, mas, ao contrário do reshape, ele modifica o tensor original, se necessário, para acomodar a nova forma. Se a nova forma tiver mais elementos do que o tensor original, ele preenche com zeros.\n",
    "\n",
    "tensor = torch.randn(2, 3)  # Um tensor 2x3\n",
    "tensor.resize_(3, 2)  # Redimensiona para 3x2"
   ]
  },
  {
   "cell_type": "code",
   "execution_count": 83,
   "metadata": {},
   "outputs": [],
   "source": [
    "# O método view é semelhante ao reshape, pois é usado para alterar a forma de um tensor. Ele retorna um novo tensor com a forma especificada, mas compartilha os dados com o tensor original, se possível. Isso significa que as operações no novo tensor podem afetar o tensor original.\n",
    "\n",
    "tensor = torch.randn(2, 3)  # Um tensor 2x3\n",
    "viewed_tensor = tensor.view(3, 2)  # Redimensiona para 3x2\n"
   ]
  },
  {
   "attachments": {
    "image.png": {
     "image/png": "[encoded data removed]"
    }
   },
   "cell_type": "markdown",
   "metadata": {},
   "source": [
    " as dimensões das matrizes features e weights não eram compatíveis para a multiplicação de matrizes. features tinha a forma (1, 5) e weights tinha a forma (1, 5), o que significa que a multiplicação de matrizes não era possível diretamente.\n",
    "\n",
    " A multiplicação de matrizes dessas duas matrizes resultará em uma matriz de dimensão (1, 1), que é uma saída esperada para uma rede neural com uma única entrada e um único neurônio de saída.\n",
    "\n",
    " ![image.png](attachment:image.png)"
   ]
  },
  {
   "cell_type": "code",
   "execution_count": 84,
   "metadata": {},
   "outputs": [
    {
     "data": {
      "text/plain": [
       "tensor([[0.1595]])"
      ]
     },
     "execution_count": 84,
     "metadata": {},
     "output_type": "execute_result"
    }
   ],
   "source": [
    "y = activation(torch.mm(features, weights.view(5,1)) + bias)\n",
    "#metodo de multiplicacao de matrizes é mais eficiente que a soluacao anterior\n",
    "y"
   ]
  },
  {
   "cell_type": "markdown",
   "metadata": {},
   "source": [
    "Calcular a saída para a rede multi camadas"
   ]
  },
  {
   "cell_type": "code",
   "execution_count": 85,
   "metadata": {},
   "outputs": [],
   "source": [
    "torch.manual_seed(7)\n",
    "features = torch.randn((1,3))\n",
    "\n",
    "n_input = features.shape[1]\n",
    "n_hidden = 2\n",
    "n_output = 1\n",
    "\n",
    "\n",
    "W1 = torch.randn(n_input, n_hidden)\n",
    "W2 = torch.randn(n_hidden, n_output)\n",
    "\n",
    "B1 = torch.randn((1, n_hidden))\n",
    "B2 = torch.randn((1, n_output))"
   ]
  },
  {
   "cell_type": "code",
   "execution_count": 86,
   "metadata": {},
   "outputs": [
    {
     "data": {
      "text/plain": [
       "tensor([[0.3171]])"
      ]
     },
     "execution_count": 86,
     "metadata": {},
     "output_type": "execute_result"
    }
   ],
   "source": [
    "h = activation(torch.mm(features, W1) + B1)\n",
    "output = activation(torch.mm(h, W2) + B2)\n",
    "output"
   ]
  },
  {
   "cell_type": "markdown",
   "metadata": {},
   "source": [
    "Numpy to Torch and Back"
   ]
  },
  {
   "cell_type": "code",
   "execution_count": 87,
   "metadata": {},
   "outputs": [],
   "source": [
    "import numpy as np"
   ]
  },
  {
   "cell_type": "code",
   "execution_count": 88,
   "metadata": {},
   "outputs": [
    {
     "data": {
      "text/plain": [
       "array([[0.91720487, 0.16576964, 0.02279269],\n",
       "       [0.0152984 , 0.57826639, 0.36438456],\n",
       "       [0.54388301, 0.66193797, 0.25187547],\n",
       "       [0.25603841, 0.54840748, 0.4623308 ]])"
      ]
     },
     "execution_count": 88,
     "metadata": {},
     "output_type": "execute_result"
    }
   ],
   "source": [
    "a = np.random.rand(4,3)\n",
    "a"
   ]
  },
  {
   "cell_type": "code",
   "execution_count": 89,
   "metadata": {},
   "outputs": [
    {
     "data": {
      "text/plain": [
       "tensor([[0.9172, 0.1658, 0.0228],\n",
       "        [0.0153, 0.5783, 0.3644],\n",
       "        [0.5439, 0.6619, 0.2519],\n",
       "        [0.2560, 0.5484, 0.4623]], dtype=torch.float64)"
      ]
     },
     "execution_count": 89,
     "metadata": {},
     "output_type": "execute_result"
    }
   ],
   "source": [
    "b = torch.from_numpy(a)\n",
    "b"
   ]
  },
  {
   "cell_type": "code",
   "execution_count": 90,
   "metadata": {},
   "outputs": [
    {
     "data": {
      "text/plain": [
       "array([[0.91720487, 0.16576964, 0.02279269],\n",
       "       [0.0152984 , 0.57826639, 0.36438456],\n",
       "       [0.54388301, 0.66193797, 0.25187547],\n",
       "       [0.25603841, 0.54840748, 0.4623308 ]])"
      ]
     },
     "execution_count": 90,
     "metadata": {},
     "output_type": "execute_result"
    }
   ],
   "source": [
    "b.numpy()"
   ]
  },
  {
   "cell_type": "code",
   "execution_count": 91,
   "metadata": {},
   "outputs": [
    {
     "data": {
      "text/plain": [
       "tensor([[1.8344, 0.3315, 0.0456],\n",
       "        [0.0306, 1.1565, 0.7288],\n",
       "        [1.0878, 1.3239, 0.5038],\n",
       "        [0.5121, 1.0968, 0.9247]], dtype=torch.float64)"
      ]
     },
     "execution_count": 91,
     "metadata": {},
     "output_type": "execute_result"
    }
   ],
   "source": [
    "b.mul_(2)"
   ]
  },
  {
   "cell_type": "code",
   "execution_count": 92,
   "metadata": {},
   "outputs": [
    {
     "data": {
      "text/plain": [
       "array([[1.83440974, 0.33153929, 0.04558538],\n",
       "       [0.03059679, 1.15653279, 0.72876912],\n",
       "       [1.08776601, 1.32387593, 0.50375094],\n",
       "       [0.51207683, 1.09681496, 0.92466161]])"
      ]
     },
     "execution_count": 92,
     "metadata": {},
     "output_type": "execute_result"
    }
   ],
   "source": [
    "a"
   ]
  },
  {
   "cell_type": "markdown",
   "metadata": {},
   "source": [
    "Tensors em frameworks de aprendizado de máquina são geralmente otimizados para eficiência em GPU, o que significa que operações matemáticas em tensores podem ser executadas muito mais rapidamente em GPUs do que em CPUs. Isso é crucial para o treinamento eficiente de modelos de aprendizado de máquina em grandes conjuntos de dados.\n",
    "\n",
    "Arrays em NumPy podem ser usados com GPUs, mas a eficiência pode não ser tão alta quanto com tensores em frameworks de aprendizado de máquina especializados.\n"
   ]
  },
  {
   "cell_type": "code",
   "execution_count": null,
   "metadata": {},
   "outputs": [],
   "source": []
  }
 ],
 "metadata": {
  "kernelspec": {
   "display_name": "base",
   "language": "python",
   "name": "python3"
  },
  "language_info": {
   "codemirror_mode": {
    "name": "ipython",
    "version": 3
   },
   "file_extension": ".py",
   "mimetype": "text/x-python",
   "name": "python",
   "nbconvert_exporter": "python",
   "pygments_lexer": "ipython3",
   "version": "3.10.10"
  }
 },
 "nbformat": 4,
 "nbformat_minor": 2
}
