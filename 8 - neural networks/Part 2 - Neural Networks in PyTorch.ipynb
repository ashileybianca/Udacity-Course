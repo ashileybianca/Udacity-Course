{
 "cells": [
  {
   "cell_type": "markdown",
   "metadata": {},
   "source": [
    "MNIST"
   ]
  },
  {
   "cell_type": "code",
   "execution_count": 3,
   "metadata": {},
   "outputs": [],
   "source": [
    "# Import necessary packages\n",
    "\n",
    "%matplotlib inline\n",
    "%config InlineBackend.figure_format = 'retina'\n",
    "\n",
    "import numpy as np\n",
    "import torch\n",
    "\n",
    "import matplotlib.pyplot as plt"
   ]
  },
  {
   "cell_type": "code",
   "execution_count": 4,
   "metadata": {},
   "outputs": [],
   "source": [
    "# The MNIST datasets are hosted on yann.lecun.com that has moved under CloudFlare protection\n",
    "# Run this script to enable the datasets download\n",
    "# Reference: https://github.com/pytorch/vision/issues/1938\n",
    "\n",
    "from six.moves import urllib\n",
    "opener = urllib.request.build_opener()\n",
    "opener.addheaders = [('User-agent', 'Mozilla/5.0')]\n",
    "urllib.request.install_opener(opener)"
   ]
  },
  {
   "cell_type": "code",
   "execution_count": 5,
   "metadata": {},
   "outputs": [],
   "source": [
    "### Run this cell\n",
    "\n",
    "from torchvision import datasets, transforms\n",
    "\n",
    "# Define a transform to normalize the data\n",
    "transform = transforms.Compose([transforms.ToTensor(),\n",
    "                              transforms.Normalize((0.5,), (0.5,)),\n",
    "                              ])\n",
    "\n",
    "# Download and load the training data\n",
    "trainset = datasets.MNIST('~/.pytorch/MNIST_data/', download=True, train=True, transform=transform)\n",
    "trainloader = torch.utils.data.DataLoader(trainset, batch_size=64, shuffle=True)"
   ]
  },
  {
   "cell_type": "code",
   "execution_count": 6,
   "metadata": {},
   "outputs": [
    {
     "name": "stdout",
     "output_type": "stream",
     "text": [
      "<class 'torch.Tensor'>\n",
      "torch.Size([64, 1, 28, 28])\n",
      "torch.Size([64])\n"
     ]
    }
   ],
   "source": [
    "dataiter = iter(trainloader)\n",
    "images, labels = next(dataiter)\n",
    "print(type(images))\n",
    "print(images.shape)\n",
    "print(labels.shape)"
   ]
  },
  {
   "cell_type": "code",
   "execution_count": 7,
   "metadata": {},
   "outputs": [
    {
     "data": {
      "image/png": "[encoded data removed]",
      "text/plain": [
       "<Figure size 640x480 with 1 Axes>"
      ]
     },
     "metadata": {
      "image/png": {
       "height": 413,
       "width": 417
      }
     },
     "output_type": "display_data"
    }
   ],
   "source": [
    "\n",
    "plt.imshow(images[1].numpy().squeeze(), cmap='Greys_r');"
   ]
  },
  {
   "cell_type": "markdown",
   "metadata": {},
   "source": [
    "Exercise: Flatten the batch of images images. Then build a multi-layer network with 784 input units, 256 hidden units, and 10 output units using random tensors for the weights and biases. For now, use a sigmoid activation for the hidden layer. Leave the output layer without an activation, we'll add one that gives us a probability distribution next."
   ]
  },
  {
   "cell_type": "code",
   "execution_count": 8,
   "metadata": {},
   "outputs": [
    {
     "name": "stdout",
     "output_type": "stream",
     "text": [
      "torch.Size([64, 1, 28, 28])\n",
      "torch.Size([64, 784])\n"
     ]
    }
   ],
   "source": [
    "## Your solution\n",
    "\n",
    "# Definição da função de ativação sigmoidal\n",
    "def activation(x): \n",
    "    return 1/(1+torch.exp(-x))\n",
    "\n",
    "# Remodelagem das imagens para um tensor de entrada\n",
    "# Pega a quantidade de lotes das imagens (64), -1 = inferir automaticamente o tamanho da segunda dimensão \n",
    "# de modo que o número total de elementos no tensor seja preservado após a remodelagem\n",
    "inputs = images.view(images.shape[0], -1)\n",
    "\n",
    "print(images.shape)\n",
    "print(inputs.shape)\n",
    "\n"
   ]
  },
  {
   "cell_type": "markdown",
   "metadata": {},
   "source": [
    "Se images tem o tamanho [64, 1, 28, 28], isso significa que é um tensor com 64 amostras no lote, cada uma representando uma imagem de 28x28 pixels em escala de cinza (um único canal de cor).\n",
    "\n",
    "Para transformar essas imagens em um formato adequado para alimentar uma rede neural totalmente conectada, precisamos achatar cada imagem em um vetor unidimensional. Isso significa que cada imagem de 28x28 pixels será transformada em um vetor de comprimento 784 (28x28).\n",
    "\n",
    "inputs = images.view(images.shape[0], -1) realiza essa operação de achatamento.\n",
    "\n",
    "- images.shape[0] é igual a 64, que é o número de amostras no lote.\n",
    "- -1 é usado para que o PyTorch possa inferir automaticamente o tamanho da segunda dimensão para garantir que o número total de elementos no tensor seja preservado após a remodelagem.\n",
    "\n",
    "- inputs = images.view(64, -1) remodela o tensor images para ter <b>64 linhas (uma para cada amostra no lote) e uma quantidade de colunas que é calculada automaticamente para garantir que o número total de elementos seja preservado.</b> \n",
    "\n",
    "- Neste caso, como cada imagem é achatada em um vetor de 784 elementos, a segunda dimensão será 784.\n",
    "\n",
    "Portanto, o tensor resultante inputs terá o tamanho [64, 784], o que significa que agora cada amostra no lote é representada como um vetor unidimensional de 784 elementos."
   ]
  },
  {
   "cell_type": "code",
   "execution_count": 9,
   "metadata": {},
   "outputs": [
    {
     "name": "stdout",
     "output_type": "stream",
     "text": [
      "torch.Size([64, 10])\n",
      "tensor([[9.8932e-01, 8.1616e-01, 9.9263e-01, 9.9991e-01, 1.5277e-05, 1.0481e-01,\n",
      "         9.7723e-01, 9.9986e-01, 1.0000e+00, 9.9999e-01],\n",
      "        [4.2004e-01, 9.0687e-01, 1.1100e-03, 9.9984e-01, 1.3284e-07, 9.9976e-01,\n",
      "         7.2396e-03, 9.9995e-01, 1.0000e+00, 9.9959e-01],\n",
      "        [9.9807e-01, 8.9286e-01, 1.1004e-01, 1.0000e+00, 5.2109e-07, 7.3538e-01,\n",
      "         5.7759e-01, 1.0000e+00, 1.0000e+00, 9.9991e-01],\n",
      "        [9.8053e-01, 1.4576e-01, 8.8533e-01, 9.9995e-01, 1.9854e-02, 9.9842e-01,\n",
      "         6.8889e-01, 9.9993e-01, 1.0000e+00, 9.4537e-01],\n",
      "        [9.7440e-01, 9.5592e-01, 6.3563e-02, 9.9999e-01, 7.7137e-07, 9.9999e-01,\n",
      "         3.1714e-03, 9.9865e-01, 1.0000e+00, 1.0000e+00],\n",
      "        [8.6028e-01, 4.1249e-03, 1.5434e-03, 1.0000e+00, 1.4278e-05, 9.9506e-01,\n",
      "         2.9631e-01, 1.0000e+00, 1.0000e+00, 1.0000e+00],\n",
      "        [7.8191e-02, 7.7837e-03, 4.0699e-04, 9.9985e-01, 2.9154e-07, 9.9743e-01,\n",
      "         9.9703e-01, 1.0000e+00, 1.0000e+00, 1.0000e+00],\n",
      "        [9.8322e-01, 1.2499e-06, 2.2635e-03, 1.0000e+00, 2.9228e-07, 9.9172e-01,\n",
      "         1.0000e+00, 9.9976e-01, 7.3502e-01, 1.0000e+00],\n",
      "        [9.3031e-01, 4.0571e-03, 9.9787e-01, 9.9992e-01, 9.4746e-07, 9.7733e-01,\n",
      "         1.5276e-03, 1.0000e+00, 1.0000e+00, 1.0000e+00],\n",
      "        [1.6759e-02, 9.2777e-05, 3.5303e-01, 9.9985e-01, 3.9561e-03, 9.8501e-01,\n",
      "         2.9050e-01, 9.9895e-01, 1.0000e+00, 9.9984e-01],\n",
      "        [6.5271e-01, 6.7245e-03, 2.9317e-01, 1.0000e+00, 8.4101e-07, 9.9907e-01,\n",
      "         3.8931e-01, 1.0000e+00, 1.0000e+00, 9.9559e-01],\n",
      "        [9.6584e-01, 7.3657e-04, 6.9172e-01, 9.9999e-01, 2.5062e-09, 9.9991e-01,\n",
      "         9.9987e-01, 1.0000e+00, 1.0000e+00, 1.0000e+00],\n",
      "        [9.9941e-01, 5.1614e-02, 8.2976e-02, 1.0000e+00, 3.1279e-06, 9.9243e-01,\n",
      "         2.3140e-01, 9.9968e-01, 1.0000e+00, 9.9834e-01],\n",
      "        [3.5176e-03, 6.6337e-03, 3.3836e-01, 9.9990e-01, 8.4854e-05, 9.9598e-01,\n",
      "         2.3200e-04, 7.0526e-01, 1.0000e+00, 9.7371e-01],\n",
      "        [8.9679e-01, 1.5830e-04, 6.6815e-02, 1.0000e+00, 2.1259e-08, 9.9978e-01,\n",
      "         1.0109e-01, 1.0000e+00, 1.0000e+00, 1.0000e+00],\n",
      "        [2.0503e-01, 6.9911e-03, 9.9793e-01, 9.8293e-01, 7.3034e-04, 9.4393e-01,\n",
      "         9.0722e-03, 1.0000e+00, 1.0000e+00, 9.9992e-01],\n",
      "        [1.4077e-02, 9.2592e-01, 3.7834e-04, 9.9953e-01, 2.2780e-05, 1.0000e+00,\n",
      "         6.2747e-01, 1.0000e+00, 1.0000e+00, 9.9999e-01],\n",
      "        [2.6822e-02, 3.7957e-03, 1.8084e-01, 1.0000e+00, 3.7317e-09, 9.9974e-01,\n",
      "         9.9797e-01, 9.9773e-01, 9.9990e-01, 9.9988e-01],\n",
      "        [1.7198e-01, 3.1689e-03, 4.1638e-03, 1.0000e+00, 4.4567e-07, 9.8019e-01,\n",
      "         9.8972e-01, 9.9954e-01, 9.9978e-01, 9.9921e-01],\n",
      "        [2.5411e-01, 9.7127e-01, 2.3994e-03, 9.9971e-01, 1.1434e-08, 9.9927e-01,\n",
      "         6.1487e-03, 9.9953e-01, 1.0000e+00, 1.0000e+00],\n",
      "        [1.8182e-03, 7.9157e-03, 2.8515e-04, 1.0000e+00, 8.6499e-08, 9.9953e-01,\n",
      "         2.4211e-01, 9.9968e-01, 1.0000e+00, 1.0000e+00],\n",
      "        [8.4332e-01, 9.9622e-01, 1.5593e-02, 9.9393e-01, 2.9359e-02, 9.5123e-01,\n",
      "         9.8060e-01, 8.7280e-01, 1.0000e+00, 9.9087e-01],\n",
      "        [4.9663e-03, 8.3231e-01, 7.8384e-03, 9.9998e-01, 1.8793e-05, 9.9937e-01,\n",
      "         9.9953e-01, 1.0000e+00, 9.9999e-01, 1.0000e+00],\n",
      "        [2.5501e-02, 4.2632e-05, 6.8521e-04, 1.0000e+00, 7.7260e-09, 1.0000e+00,\n",
      "         9.9965e-01, 1.0000e+00, 9.9999e-01, 1.0000e+00],\n",
      "        [9.5377e-01, 7.6387e-01, 2.4602e-04, 1.0000e+00, 4.4139e-06, 1.3102e-02,\n",
      "         9.9707e-01, 1.0000e+00, 1.0000e+00, 1.0000e+00],\n",
      "        [3.9308e-01, 9.2318e-01, 6.4969e-01, 8.7679e-01, 1.4060e-01, 9.9879e-01,\n",
      "         9.8978e-01, 9.9974e-01, 1.0000e+00, 1.0000e+00],\n",
      "        [7.7227e-01, 9.9621e-01, 4.9492e-02, 9.9999e-01, 1.1565e-05, 9.9979e-01,\n",
      "         9.0531e-04, 9.9988e-01, 1.0000e+00, 9.9976e-01],\n",
      "        [9.7393e-01, 6.6444e-01, 2.9384e-02, 9.8880e-01, 2.6694e-07, 9.9705e-01,\n",
      "         9.0950e-01, 9.8014e-01, 1.0000e+00, 1.0000e+00],\n",
      "        [1.8021e-02, 6.1094e-08, 2.5250e-03, 9.9944e-01, 7.5671e-04, 9.9979e-01,\n",
      "         9.9941e-01, 6.0277e-01, 9.9998e-01, 9.9950e-01],\n",
      "        [8.2477e-01, 3.8863e-02, 9.9901e-01, 9.9999e-01, 4.2833e-06, 9.9936e-01,\n",
      "         1.0205e-02, 1.0000e+00, 1.0000e+00, 1.0000e+00],\n",
      "        [9.0787e-01, 1.5384e-02, 9.9504e-01, 1.0000e+00, 4.6092e-04, 9.9965e-01,\n",
      "         4.9662e-02, 9.9995e-01, 1.0000e+00, 9.9730e-01],\n",
      "        [3.8469e-01, 9.6754e-01, 2.4490e-01, 1.0000e+00, 6.5963e-10, 9.9972e-01,\n",
      "         6.4759e-05, 9.9997e-01, 1.0000e+00, 1.0000e+00],\n",
      "        [9.9880e-01, 2.3786e-05, 7.0788e-01, 9.9999e-01, 2.9935e-08, 9.9726e-01,\n",
      "         9.9992e-01, 9.8706e-01, 1.0000e+00, 1.0000e+00],\n",
      "        [7.9327e-01, 5.6760e-05, 3.9932e-06, 9.7018e-01, 2.6336e-06, 9.6219e-01,\n",
      "         9.9989e-01, 9.9996e-01, 1.0000e+00, 1.0000e+00],\n",
      "        [9.9659e-01, 1.1460e-01, 5.0156e-04, 1.0000e+00, 1.1912e-04, 7.0552e-01,\n",
      "         9.8608e-01, 1.0000e+00, 1.0000e+00, 1.0000e+00],\n",
      "        [9.9943e-01, 4.7801e-04, 1.8094e-01, 1.0000e+00, 4.1065e-08, 9.9966e-01,\n",
      "         2.6650e-02, 9.9992e-01, 1.0000e+00, 9.9852e-01],\n",
      "        [9.5347e-01, 1.0929e-06, 1.5816e-02, 1.0000e+00, 7.8156e-09, 1.0000e+00,\n",
      "         9.6640e-01, 9.9993e-01, 9.9999e-01, 1.0000e+00],\n",
      "        [6.5956e-01, 4.2408e-06, 1.2251e-02, 1.0000e+00, 4.7752e-07, 9.8945e-01,\n",
      "         3.0589e-06, 9.9979e-01, 1.0000e+00, 1.0000e+00],\n",
      "        [9.5544e-01, 9.3441e-01, 9.6219e-01, 9.9987e-01, 7.3574e-04, 9.9871e-01,\n",
      "         1.9862e-01, 9.9939e-01, 1.0000e+00, 7.6050e-01],\n",
      "        [6.9900e-02, 6.9061e-02, 4.7205e-04, 9.9996e-01, 1.0811e-05, 9.8985e-01,\n",
      "         1.2297e-01, 9.9999e-01, 1.0000e+00, 1.0000e+00],\n",
      "        [9.9588e-01, 2.8920e-05, 9.9968e-01, 1.0000e+00, 4.4305e-04, 9.9998e-01,\n",
      "         4.6000e-02, 9.9583e-01, 1.0000e+00, 9.6691e-01],\n",
      "        [1.8587e-01, 3.2853e-03, 4.6235e-01, 1.0000e+00, 1.1934e-04, 9.9926e-01,\n",
      "         9.9839e-01, 9.9997e-01, 9.9985e-01, 1.0000e+00],\n",
      "        [5.4435e-01, 9.4569e-01, 9.7635e-01, 9.9940e-01, 3.6630e-05, 9.9295e-01,\n",
      "         1.5181e-01, 9.9254e-01, 1.0000e+00, 9.8900e-01],\n",
      "        [1.3299e-01, 8.1432e-04, 1.8907e-05, 9.9999e-01, 9.3845e-08, 9.9997e-01,\n",
      "         1.5902e-01, 9.9988e-01, 1.0000e+00, 1.0000e+00],\n",
      "        [6.8809e-01, 3.0294e-05, 2.1323e-04, 1.0000e+00, 1.2085e-06, 8.6713e-01,\n",
      "         9.9953e-01, 1.0000e+00, 1.0000e+00, 9.9966e-01],\n",
      "        [9.9747e-01, 2.9309e-02, 6.5826e-01, 1.0000e+00, 3.6117e-05, 8.8247e-01,\n",
      "         9.9707e-01, 1.0000e+00, 1.0000e+00, 9.9847e-01],\n",
      "        [1.4360e-03, 9.7380e-04, 7.6696e-03, 9.9980e-01, 8.0448e-07, 9.9458e-01,\n",
      "         1.1817e-03, 1.0000e+00, 1.0000e+00, 1.0000e+00],\n",
      "        [3.7905e-05, 9.1461e-01, 6.7763e-03, 9.9912e-01, 5.3581e-08, 9.8915e-01,\n",
      "         6.2557e-01, 1.0000e+00, 1.0000e+00, 1.0000e+00],\n",
      "        [9.9980e-01, 8.3118e-01, 3.8002e-03, 9.9983e-01, 3.9575e-03, 8.6781e-01,\n",
      "         4.6696e-02, 8.4674e-01, 1.0000e+00, 9.9959e-01],\n",
      "        [9.7471e-01, 1.0329e-03, 1.0606e-02, 1.0000e+00, 3.2732e-08, 9.9943e-01,\n",
      "         9.2832e-01, 1.0000e+00, 1.0000e+00, 1.0000e+00],\n",
      "        [6.0950e-01, 3.5649e-05, 1.2899e-03, 1.0000e+00, 5.1584e-02, 1.0000e+00,\n",
      "         1.9901e-01, 9.9973e-01, 1.0000e+00, 1.0000e+00],\n",
      "        [1.5797e-02, 1.1088e-02, 9.9349e-01, 9.1678e-01, 3.9834e-04, 9.9798e-01,\n",
      "         5.9639e-04, 1.0000e+00, 1.0000e+00, 1.0000e+00],\n",
      "        [9.8745e-01, 2.1096e-02, 2.6582e-02, 1.0000e+00, 4.3465e-09, 9.9919e-01,\n",
      "         9.1141e-01, 9.9999e-01, 1.0000e+00, 9.9965e-01],\n",
      "        [1.3263e-01, 9.9058e-01, 9.7750e-01, 9.8284e-01, 5.0676e-04, 9.9556e-01,\n",
      "         7.1655e-03, 1.0000e+00, 1.0000e+00, 9.1009e-01],\n",
      "        [3.7731e-03, 2.6632e-02, 1.7911e-02, 9.9999e-01, 6.8017e-06, 6.9210e-01,\n",
      "         5.1547e-03, 9.9990e-01, 1.0000e+00, 9.9982e-01],\n",
      "        [9.9206e-01, 3.2530e-07, 5.3917e-05, 1.0000e+00, 1.1952e-10, 1.0000e+00,\n",
      "         9.9993e-01, 1.0000e+00, 1.0000e+00, 9.9926e-01],\n",
      "        [2.6121e-04, 1.9973e-03, 4.0405e-02, 9.9997e-01, 8.2882e-02, 9.9805e-01,\n",
      "         9.3046e-01, 1.0000e+00, 9.9999e-01, 9.9990e-01],\n",
      "        [6.5342e-01, 6.7756e-01, 4.8852e-02, 1.0000e+00, 3.6915e-04, 1.0000e+00,\n",
      "         2.2335e-05, 4.8284e-01, 1.0000e+00, 1.0000e+00],\n",
      "        [1.0688e-03, 1.1038e-03, 3.6482e-04, 9.9966e-01, 5.1094e-02, 9.9978e-01,\n",
      "         9.7092e-01, 1.0000e+00, 1.0000e+00, 9.9998e-01],\n",
      "        [4.0434e-05, 5.7440e-02, 7.8766e-01, 9.9946e-01, 6.5962e-06, 9.9603e-01,\n",
      "         7.4980e-04, 9.9999e-01, 1.0000e+00, 9.9968e-01],\n",
      "        [9.3141e-01, 9.4082e-01, 1.9717e-05, 9.9977e-01, 5.3279e-05, 9.9601e-01,\n",
      "         9.1829e-01, 9.7770e-01, 1.0000e+00, 1.0000e+00],\n",
      "        [9.9591e-01, 4.8464e-05, 9.4343e-02, 9.9971e-01, 2.4289e-04, 9.9407e-01,\n",
      "         9.9876e-01, 9.9992e-01, 1.0000e+00, 1.0000e+00],\n",
      "        [9.2540e-01, 4.6378e-04, 9.0179e-01, 1.0000e+00, 4.9539e-08, 9.8625e-01,\n",
      "         8.8583e-01, 1.0000e+00, 9.9999e-01, 1.0000e+00],\n",
      "        [8.6454e-01, 8.3143e-01, 3.3515e-01, 1.0000e+00, 1.2219e-07, 9.9997e-01,\n",
      "         7.1360e-03, 1.0000e+00, 1.0000e+00, 1.0000e+00]])\n"
     ]
    }
   ],
   "source": [
    "INPUTS = 784 #28 X 28\n",
    "HIDDEN_LAYERS = 256 \n",
    "OUTPUTS = 10\n",
    "\n",
    "w1 = torch.randn(INPUTS, HIDDEN_LAYERS) # unidades de entrada (784 unidades) às unidades da camada oculta (256 unidades).\n",
    "b1 = torch.randn(256) # O valor de b1 = torch.randn(256) define o viés (bias) para cada uma das 256 unidades na camada oculta. Cada unidade na camada oculta terá seu próprio viés associado.\n",
    "\n",
    "w2 = torch.randn(HIDDEN_LAYERS, OUTPUTS) # conecta as 256 unidades da camada oculta às 10 unidades de saída.\n",
    "b2 = torch.randn(10) # dimensão (10), um para cada unidade de saída.\n",
    "\n",
    "h = activation(torch.mm(inputs, w1) + b1)\n",
    "out = activation(torch.mm(h, w2) + b2)\n",
    "\n",
    "print(out.shape)\n",
    "print(out)"
   ]
  },
  {
   "cell_type": "code",
   "execution_count": 10,
   "metadata": {},
   "outputs": [
    {
     "name": "stdout",
     "output_type": "stream",
     "text": [
      "torch.Size([64, 10])\n",
      "tensor([1.0000, 1.0000, 1.0000, 1.0000, 1.0000, 1.0000, 1.0000, 1.0000, 1.0000,\n",
      "        1.0000, 1.0000, 1.0000, 1.0000, 1.0000, 1.0000, 1.0000, 1.0000, 1.0000,\n",
      "        1.0000, 1.0000, 1.0000, 1.0000, 1.0000, 1.0000, 1.0000, 1.0000, 1.0000,\n",
      "        1.0000, 1.0000, 1.0000, 1.0000, 1.0000, 1.0000, 1.0000, 1.0000, 1.0000,\n",
      "        1.0000, 1.0000, 1.0000, 1.0000, 1.0000, 1.0000, 1.0000, 1.0000, 1.0000,\n",
      "        1.0000, 1.0000, 1.0000, 1.0000, 1.0000, 1.0000, 1.0000, 1.0000, 1.0000,\n",
      "        1.0000, 1.0000, 1.0000, 1.0000, 1.0000, 1.0000, 1.0000, 1.0000, 1.0000,\n",
      "        1.0000])\n"
     ]
    }
   ],
   "source": [
    "#  equivalente a sigmoid, mas quando há 3 ou mais classes.\n",
    "def softmax(x):   \n",
    "    return torch.exp(x)/torch.sum(torch.exp(x), dim=1).view(-1, 1)\n",
    "    \n",
    "# Here, out should be the output of the network in the previous excercise with shape (64,10)\n",
    "probabilities = softmax(out)\n",
    "\n",
    "# Does it have the right shape? Should be (64, 10)\n",
    "print(probabilities.shape)\n",
    "# Does it sum to 1?\n",
    "print(probabilities.sum(dim=1))"
   ]
  },
  {
   "cell_type": "markdown",
   "metadata": {},
   "source": [
    "Building networks with PyTorch"
   ]
  },
  {
   "cell_type": "code",
   "execution_count": 11,
   "metadata": {},
   "outputs": [],
   "source": [
    "from torch import nn"
   ]
  },
  {
   "cell_type": "code",
   "execution_count": 12,
   "metadata": {},
   "outputs": [],
   "source": [
    "class Network(nn.Module):\n",
    "    def __init__(self):\n",
    "        super().__init__()\n",
    "        \n",
    "        # Inputs to hidden layer linear transformation\n",
    "        self.hidden = nn.Linear(784, 256)\n",
    "        # Output layer, 10 units - one for each digit\n",
    "        self.output = nn.Linear(256, 10)\n",
    "        \n",
    "        # Define sigmoid activation and softmax output \n",
    "        self.sigmoid = nn.Sigmoid()\n",
    "        self.softmax = nn.Softmax(dim=1)\n",
    "        \n",
    "    # Este método define como os dados serão passados pela rede durante a propagação direta.\n",
    "    def forward(self, x):\n",
    "        # Pass the input tensor through each of our operations\n",
    "        x = self.hidden(x) # Passa os dados de entrada x pela camada oculta.\n",
    "        x = self.sigmoid(x) # Aplica a função de ativação sigmóide às saídas da camada oculta.\n",
    "        x = self.output(x) # Passa as saídas da camada oculta pela camada de saída.\n",
    "        x = self.softmax(x) # Aplica a função softmax às saídas finais da rede, normalizando-as para que representem probabilidades.\n",
    "\n",
    "        return x # Retorna as saídas finais da rede, que serão as probabilidades calculadas para cada classe."
   ]
  },
  {
   "cell_type": "code",
   "execution_count": 13,
   "metadata": {},
   "outputs": [
    {
     "data": {
      "text/plain": [
       "Network(\n",
       "  (hidden): Linear(in_features=784, out_features=256, bias=True)\n",
       "  (output): Linear(in_features=256, out_features=10, bias=True)\n",
       "  (sigmoid): Sigmoid()\n",
       "  (softmax): Softmax(dim=1)\n",
       ")"
      ]
     },
     "execution_count": 13,
     "metadata": {},
     "output_type": "execute_result"
    }
   ],
   "source": [
    "# Create the network and look at its text representation\n",
    "model = Network()\n",
    "model"
   ]
  },
  {
   "cell_type": "code",
   "execution_count": 14,
   "metadata": {},
   "outputs": [],
   "source": [
    "import torch.nn.functional as F\n",
    "\n",
    "class Network(nn.Module):\n",
    "    def __init__(self):\n",
    "        super().__init__()\n",
    "        # Inputs to hidden layer linear transformation\n",
    "        self.hidden = nn.Linear(784, 256)\n",
    "        # Output layer, 10 units - one for each digit\n",
    "        self.output = nn.Linear(256, 10)\n",
    "        \n",
    "    def forward(self, x):\n",
    "        # Hidden layer with sigmoid activation\n",
    "        x = F.sigmoid(self.hidden(x))\n",
    "        # Output layer with softmax activation\n",
    "        x = F.softmax(self.output(x), dim=1)\n",
    "        \n",
    "        return x"
   ]
  },
  {
   "cell_type": "markdown",
   "metadata": {},
   "source": [
    "Exercise: Create a network with 784 input units, a hidden layer with 128 units and a ReLU activation, then a hidden layer with 64 units and a ReLU activation, and finally an output layer with a softmax activation as shown above. You can use a ReLU activation with the nn.ReLU module or F.relu function.\n",
    "\n",
    "- It's good practice to name your layers by their type of network, for instance 'fc' to represent a fully-connected layer. As you code your solution, use fc1, fc2, and fc3 as your layer names."
   ]
  },
  {
   "cell_type": "code",
   "execution_count": 15,
   "metadata": {},
   "outputs": [],
   "source": [
    "#dois modos de escrita, um com a biblioteca de funcoes e outro com a classe\n",
    "\n",
    "import torch.nn.functional as F\n",
    "\n",
    "class Network(nn.Module):\n",
    "    def __init__(self):\n",
    "        super().__init__()\n",
    "\n",
    "        self.fc1 = nn.Linear(784, 128)\n",
    "        self.fc2 = nn.Linear(128, 64)\n",
    "        self.fc2 = nn.Linear(64, 10)\n",
    "        \n",
    "        \n",
    "    def forward(self, x):\n",
    "        # Hidden layer with sigmoid activation\n",
    "        x = F.relu(self.fc1(x))\n",
    "        x = F.relu(self.fc2(x))\n",
    "        x = F.softmax(self.fc3(x), dim=1)\n",
    "        \n",
    "        return x"
   ]
  },
  {
   "attachments": {
    "image.png": {
     "image/png": "[encoded data removed]"
    }
   },
   "cell_type": "markdown",
   "metadata": {},
   "source": [
    "![image.png](attachment:image.png)\n",
    "\n",
    "Solução:"
   ]
  },
  {
   "cell_type": "code",
   "execution_count": 16,
   "metadata": {},
   "outputs": [
    {
     "data": {
      "text/plain": [
       "Network(\n",
       "  (fc1): Linear(in_features=784, out_features=128, bias=True)\n",
       "  (fc2): Linear(in_features=128, out_features=64, bias=True)\n",
       "  (fc3): Linear(in_features=64, out_features=10, bias=True)\n",
       ")"
      ]
     },
     "execution_count": 16,
     "metadata": {},
     "output_type": "execute_result"
    }
   ],
   "source": [
    "## Solution\n",
    "\n",
    "class Network(nn.Module):\n",
    "    def __init__(self):\n",
    "        super().__init__()\n",
    "        # Defining the layers, 128, 64, 10 units each\n",
    "        self.fc1 = nn.Linear(784, 128)\n",
    "        self.fc2 = nn.Linear(128, 64)\n",
    "        # Output layer, 10 units - one for each digit\n",
    "        self.fc3 = nn.Linear(64, 10)\n",
    "        \n",
    "    def forward(self, x):\n",
    "        ''' Forward pass through the network, returns the output logits '''\n",
    "        \n",
    "        x = self.fc1(x)\n",
    "        x = F.relu(x)\n",
    "        x = self.fc2(x)\n",
    "        x = F.relu(x)\n",
    "        x = self.fc3(x)\n",
    "        x = F.softmax(x, dim=1)\n",
    "        \n",
    "        return x\n",
    "\n",
    "model = Network()\n",
    "model"
   ]
  },
  {
   "cell_type": "code",
   "execution_count": 17,
   "metadata": {},
   "outputs": [
    {
     "name": "stdout",
     "output_type": "stream",
     "text": [
      "Parameter containing:\n",
      "tensor([[-0.0199, -0.0283,  0.0036,  ..., -0.0248, -0.0113, -0.0347],\n",
      "        [ 0.0306,  0.0121,  0.0159,  ...,  0.0252, -0.0217, -0.0336],\n",
      "        [-0.0072,  0.0044, -0.0265,  ...,  0.0025, -0.0099,  0.0252],\n",
      "        ...,\n",
      "        [-0.0019, -0.0185,  0.0050,  ..., -0.0297, -0.0317, -0.0231],\n",
      "        [-0.0020, -0.0146,  0.0290,  ...,  0.0018,  0.0204,  0.0289],\n",
      "        [ 0.0082, -0.0291,  0.0110,  ...,  0.0009,  0.0174, -0.0197]],\n",
      "       requires_grad=True)\n",
      "Parameter containing:\n",
      "tensor([-3.1095e-02, -1.1705e-02, -3.0427e-02,  1.0494e-02, -6.5115e-03,\n",
      "         2.6276e-02, -9.1201e-03, -1.4108e-02,  3.4691e-02,  9.4826e-03,\n",
      "        -2.7649e-02,  1.0602e-02,  2.2586e-03, -1.3780e-03,  3.5422e-05,\n",
      "         2.9403e-02, -3.0077e-02,  1.5617e-02,  6.6780e-03,  1.5365e-02,\n",
      "        -2.5874e-03, -3.4234e-02,  1.3331e-02,  9.2535e-03,  1.1860e-03,\n",
      "        -2.0834e-02, -1.9103e-02, -1.0820e-02, -3.1069e-02, -1.4662e-02,\n",
      "        -1.9132e-02, -2.8621e-04, -2.0174e-02, -1.8509e-02,  9.3071e-03,\n",
      "         4.2052e-03, -2.7997e-02, -5.3575e-03,  2.7999e-02,  8.7629e-03,\n",
      "         2.4716e-02,  3.0696e-02, -2.5718e-02,  2.9400e-02, -9.4155e-03,\n",
      "         2.9244e-02, -9.3942e-03, -2.8001e-02, -1.5681e-02,  1.1596e-02,\n",
      "        -2.7446e-02, -2.7405e-02,  2.8694e-02,  2.7786e-02,  3.1250e-02,\n",
      "        -2.3969e-02, -9.5616e-03,  3.2413e-02, -2.9941e-02, -3.5477e-02,\n",
      "         2.6035e-02, -1.1764e-02, -3.3690e-02, -1.8700e-02,  2.1433e-02,\n",
      "         8.4149e-03,  2.9913e-02, -1.6705e-02, -2.0168e-02, -2.0613e-02,\n",
      "         8.5250e-04, -9.2667e-03, -2.7149e-02,  3.4951e-02, -4.0857e-03,\n",
      "         2.5488e-02, -3.2709e-02,  2.4799e-02,  2.8930e-02,  1.4173e-02,\n",
      "        -1.9382e-03,  1.0509e-02, -3.0522e-02,  2.8511e-03,  3.5329e-02,\n",
      "         1.2633e-02, -1.7972e-02, -3.3514e-02, -2.9099e-02,  2.2439e-02,\n",
      "         1.3745e-02,  1.8990e-02,  1.3388e-02, -1.8438e-02, -1.6432e-02,\n",
      "        -4.8403e-03, -1.4823e-02,  1.3145e-02,  2.8489e-02, -9.1945e-04,\n",
      "         3.4289e-02,  2.8242e-02,  3.4698e-02, -7.1096e-03, -2.5706e-02,\n",
      "        -2.4479e-03, -2.4577e-02, -1.1945e-02, -2.4239e-02,  7.1575e-03,\n",
      "        -1.5350e-02,  2.5742e-02,  2.7736e-02, -1.7483e-02,  1.5764e-02,\n",
      "        -1.8357e-03, -2.3020e-02,  3.3272e-02, -3.4238e-02, -8.7541e-03,\n",
      "         1.4071e-02,  1.3775e-03,  3.0891e-02, -3.2717e-02,  2.4320e-02,\n",
      "        -1.1815e-02, -1.8357e-03, -2.0342e-02], requires_grad=True)\n"
     ]
    }
   ],
   "source": [
    "print(model.fc1.weight) #pesos da primeira camada linear (fc1)\n",
    "print(model.fc1.bias) #bias da primeira camada linear (fc1)"
   ]
  },
  {
   "cell_type": "code",
   "execution_count": 25,
   "metadata": {},
   "outputs": [
    {
     "data": {
      "text/plain": [
       "tensor([0., 0., 0., 0., 0., 0., 0., 0., 0., 0., 0., 0., 0., 0., 0., 0., 0., 0., 0., 0., 0., 0., 0., 0.,\n",
       "        0., 0., 0., 0., 0., 0., 0., 0., 0., 0., 0., 0., 0., 0., 0., 0., 0., 0., 0., 0., 0., 0., 0., 0.,\n",
       "        0., 0., 0., 0., 0., 0., 0., 0., 0., 0., 0., 0., 0., 0., 0., 0., 0., 0., 0., 0., 0., 0., 0., 0.,\n",
       "        0., 0., 0., 0., 0., 0., 0., 0., 0., 0., 0., 0., 0., 0., 0., 0., 0., 0., 0., 0., 0., 0., 0., 0.,\n",
       "        0., 0., 0., 0., 0., 0., 0., 0., 0., 0., 0., 0., 0., 0., 0., 0., 0., 0., 0., 0., 0., 0., 0., 0.,\n",
       "        0., 0., 0., 0., 0., 0., 0., 0.])"
      ]
     },
     "execution_count": 25,
     "metadata": {},
     "output_type": "execute_result"
    }
   ],
   "source": [
    "# Set biases to all zeros\n",
    "model.fc1.bias.data.fill_(0)\n"
   ]
  },
  {
   "cell_type": "markdown",
   "metadata": {},
   "source": [
    "model.fc1.weight: Acessa os pesos da primeira camada linear (fc1) da rede neural.\n",
    "\n",
    "data: Acessa os valores dos pesos diretamente, sem envolver nenhum wrapper de PyTorch.\n",
    "\n",
    "normal_: Este método amostra valores de uma distribuição normal (gaussiana).\n",
    "\n",
    "std=0.01: Especifica o desvio padrão da distribuição normal. Um desvio padrão de 0.01 significa que os valores amostrados serão próximos à média (que é zero neste caso), com a maioria dos valores dentro de um intervalo pequeno em torno da média.\n",
    "\n",
    "Essa abordagem de inicialização é uma técnica comum para inicializar os pesos em redes neurais, especialmente em arquiteturas mais profundas. Inicializar os pesos com valores muito pequenos, como desvios padrão pequenos, ajuda a evitar problemas de saturação em unidades de ativação, que podem ocorrer quando os pesos são inicializados com valores muito grandes ou muito pequenos. Isso ajuda a garantir que os gradientes durante o treinamento não se tornem muito pequenos ou muito grandes, facilitando a convergência do algoritmo de otimização."
   ]
  },
  {
   "cell_type": "code",
   "execution_count": 19,
   "metadata": {},
   "outputs": [
    {
     "data": {
      "text/plain": [
       "tensor([[-0.0040,  0.0062,  0.0024,  ..., -0.0143,  0.0039, -0.0052],\n",
       "        [ 0.0027,  0.0075,  0.0079,  ..., -0.0143,  0.0101, -0.0062],\n",
       "        [ 0.0131,  0.0079, -0.0161,  ...,  0.0088,  0.0238, -0.0002],\n",
       "        ...,\n",
       "        [-0.0136,  0.0122, -0.0034,  ..., -0.0007,  0.0039,  0.0121],\n",
       "        [ 0.0025,  0.0058,  0.0053,  ..., -0.0141,  0.0082,  0.0116],\n",
       "        [-0.0014,  0.0111,  0.0104,  ...,  0.0122,  0.0023,  0.0054]])"
      ]
     },
     "execution_count": 19,
     "metadata": {},
     "output_type": "execute_result"
    }
   ],
   "source": [
    "# sample from random normal with standard dev = 0.01\n",
    "model.fc1.weight.data.normal_(std=0.01)"
   ]
  },
  {
   "cell_type": "markdown",
   "metadata": {},
   "source": [
    "\n",
    "Forward pass\n",
    "\n",
    "Now that we have a network, let's see what happens when we pass in an image."
   ]
  },
  {
   "cell_type": "code",
   "execution_count": 20,
   "metadata": {},
   "outputs": [
    {
     "name": "stdout",
     "output_type": "stream",
     "text": [
      "--2024-02-20 14:45:13--  https://raw.githubusercontent.com/udacity/deep-learning-v2-pytorch/3bd7dea850e936d8cb44adda8200e4e2b5d627e3/intro-to-pytorch/helper.py\n",
      "Resolving raw.githubusercontent.com (raw.githubusercontent.com)... 185.199.108.133, 185.199.109.133, 185.199.111.133, ...\n",
      "Connecting to raw.githubusercontent.com (raw.githubusercontent.com)|185.199.108.133|:443... connected.\n",
      "HTTP request sent, awaiting response... 200 OK\n",
      "Length: 2813 (2,7K) [text/plain]\n",
      "Saving to: ‘helper.py.1’\n",
      "\n",
      "helper.py.1         100%[===================>]   2,75K  --.-KB/s    in 0s      \n",
      "\n",
      "2024-02-20 14:45:13 (23,0 MB/s) - ‘helper.py.1’ saved [2813/2813]\n",
      "\n"
     ]
    }
   ],
   "source": [
    "!wget https://raw.githubusercontent.com/udacity/deep-learning-v2-pytorch/3bd7dea850e936d8cb44adda8200e4e2b5d627e3/intro-to-pytorch/helper.py"
   ]
  },
  {
   "cell_type": "code",
   "execution_count": 27,
   "metadata": {},
   "outputs": [
    {
     "data": {
      "image/png": "[encoded data removed]",
      "text/plain": [
       "<Figure size 600x900 with 2 Axes>"
      ]
     },
     "metadata": {
      "image/png": {
       "height": 327,
       "width": 589
      }
     },
     "output_type": "display_data"
    }
   ],
   "source": [
    "import helper #arquivo que tem as funcoes necessarias\n",
    "\n",
    "# Grab some data \n",
    "dataiter = iter(trainloader)\n",
    "images, labels = dataiter.next()\n",
    "\n",
    "# Resize images into a 1D vector, new shape is (batch size, color channels, image pixels) \n",
    "images.resize_(64, 1, 784)\n",
    "# or images.resize_(images.shape[0], 1, 784) to automatically get batch size\n",
    "\n",
    "# Forward pass through the network\n",
    "img_idx = 0\n",
    "ps = model.forward(images[img_idx,:])\n",
    "\n",
    "img = images[img_idx]\n",
    "helper.view_classify(img.view(1, 28, 28), ps)"
   ]
  },
  {
   "cell_type": "markdown",
   "metadata": {},
   "source": [
    "As you can see above, our network has basically no idea what this digit is. It's because we haven't trained it yet, all the weights are random!"
   ]
  },
  {
   "cell_type": "markdown",
   "metadata": {},
   "source": [
    "<H1>Using nn.Sequential</H1>\n",
    "\n",
    "PyTorch provides a convenient way to build networks like this where a tensor is passed sequentially through operations, nn.Sequential (documentation).\n",
    "\n",
    "OBS: Ambas as abordagens são válidas e produzirão o mesmo resultado, mas a primeira abordagem usando nn.Sequential tende a ser mais concisa e é frequentemente preferida por sua simplicidade e clareza. A outra abordagem oferece mais flexibilidade se você precisar de mais controle sobre como as camadas estão interagindo durante o forward.\n",
    "\n",
    "Using this to build the equivalent network:"
   ]
  },
  {
   "cell_type": "code",
   "execution_count": 22,
   "metadata": {},
   "outputs": [
    {
     "name": "stdout",
     "output_type": "stream",
     "text": [
      "Sequential(\n",
      "  (0): Linear(in_features=784, out_features=128, bias=True)\n",
      "  (1): ReLU()\n",
      "  (2): Linear(in_features=128, out_features=64, bias=True)\n",
      "  (3): ReLU()\n",
      "  (4): Linear(in_features=64, out_features=10, bias=True)\n",
      "  (5): Softmax(dim=1)\n",
      ")\n"
     ]
    },
    {
     "data": {
      "image/png": "[encoded data removed]",
      "text/plain": [
       "<Figure size 600x900 with 2 Axes>"
      ]
     },
     "metadata": {
      "image/png": {
       "height": 327,
       "width": 589
      }
     },
     "output_type": "display_data"
    }
   ],
   "source": [
    "# Hyperparameters for our network\n",
    "input_size = 784\n",
    "hidden_sizes = [128, 64]\n",
    "output_size = 10\n",
    "\n",
    "# Build a feed-forward network\n",
    "model = nn.Sequential(nn.Linear(input_size, hidden_sizes[0]),\n",
    "                      nn.ReLU(),\n",
    "                      nn.Linear(hidden_sizes[0], hidden_sizes[1]),\n",
    "                      nn.ReLU(),\n",
    "                      nn.Linear(hidden_sizes[1], output_size),\n",
    "                      nn.Softmax(dim=1))\n",
    "print(model)\n",
    "\n",
    "# Forward pass through the network and display output\n",
    "images, labels = next(iter(trainloader))\n",
    "images.resize_(images.shape[0], 1, 784)\n",
    "ps = model.forward(images[0,:])\n",
    "helper.view_classify(images[0].view(1, 28, 28), ps)"
   ]
  },
  {
   "cell_type": "markdown",
   "metadata": {},
   "source": [
    " The operations are availble by passing in the appropriate index. For example, if you want to get first Linear operation and look at the weights, you'd use model[0].\n",
    " \n",
    " \n",
    " Ou seja, ao utilizar nn.Sequential para criar uma rede neural, você pode acessar as camadas individuais dessa rede usando índices numéricos, como se fosse uma lista. Por exemplo, se você deseja acessar a primeira camada linear na rede neural construída usando nn.Sequential, você pode usar model[0]."
   ]
  },
  {
   "cell_type": "code",
   "execution_count": 28,
   "metadata": {},
   "outputs": [
    {
     "name": "stdout",
     "output_type": "stream",
     "text": [
      "Linear(in_features=784, out_features=128, bias=True)\n"
     ]
    },
    {
     "data": {
      "text/plain": [
       "Parameter containing:\n",
       "tensor([[-0.0166,  0.0083,  0.0272,  ..., -0.0232, -0.0145,  0.0010],\n",
       "        [-0.0224,  0.0126,  0.0284,  ...,  0.0169,  0.0124,  0.0021],\n",
       "        [-0.0239,  0.0016,  0.0143,  ..., -0.0207, -0.0163, -0.0230],\n",
       "        ...,\n",
       "        [-0.0010, -0.0158,  0.0139,  ...,  0.0037,  0.0167, -0.0235],\n",
       "        [-0.0322,  0.0063,  0.0227,  ..., -0.0098,  0.0105,  0.0310],\n",
       "        [ 0.0138,  0.0262, -0.0133,  ...,  0.0178, -0.0290,  0.0031]],\n",
       "       requires_grad=True)"
      ]
     },
     "execution_count": 28,
     "metadata": {},
     "output_type": "execute_result"
    }
   ],
   "source": [
    "print(model[0])\n",
    "model[0].weight"
   ]
  },
  {
   "cell_type": "markdown",
   "metadata": {},
   "source": [
    "Ao usar a classe nn.Sequential em PyTorch para construir uma rede neural, em vez de fornecer uma lista sequencial de camadas, você pode fornecer um OrderedDict. Isso permite nomear individualmente as camadas e operações da rede neural.\n",
    "\n",
    "Usar um OrderedDict para nomear camadas é útil em situações onde a legibilidade do código é importante e quando você precisa se referir a camadas específicas por nomes descritivos durante o treinamento ou a análise do modelo."
   ]
  },
  {
   "cell_type": "code",
   "execution_count": 24,
   "metadata": {},
   "outputs": [
    {
     "data": {
      "text/plain": [
       "Sequential(\n",
       "  (fc1): Linear(in_features=784, out_features=128, bias=True)\n",
       "  (relu1): ReLU()\n",
       "  (fc2): Linear(in_features=128, out_features=64, bias=True)\n",
       "  (relu2): ReLU()\n",
       "  (output): Linear(in_features=64, out_features=10, bias=True)\n",
       "  (softmax): Softmax(dim=1)\n",
       ")"
      ]
     },
     "execution_count": 24,
     "metadata": {},
     "output_type": "execute_result"
    }
   ],
   "source": [
    "from collections import OrderedDict\n",
    "model = nn.Sequential(OrderedDict([\n",
    "                      ('fc1', nn.Linear(input_size, hidden_sizes[0])),\n",
    "                      ('relu1', nn.ReLU()),\n",
    "                      ('fc2', nn.Linear(hidden_sizes[0], hidden_sizes[1])),\n",
    "                      ('relu2', nn.ReLU()),\n",
    "                      ('output', nn.Linear(hidden_sizes[1], output_size)),\n",
    "                      ('softmax', nn.Softmax(dim=1))]))\n",
    "model"
   ]
  },
  {
   "cell_type": "markdown",
   "metadata": {},
   "source": [
    "Now you can access layers either by integer or the name"
   ]
  },
  {
   "cell_type": "code",
   "execution_count": 29,
   "metadata": {},
   "outputs": [
    {
     "name": "stdout",
     "output_type": "stream",
     "text": [
      "Linear(in_features=784, out_features=128, bias=True)\n",
      "Linear(in_features=784, out_features=128, bias=True)\n"
     ]
    }
   ],
   "source": [
    "print(model[0])\n",
    "print(model.fc1)"
   ]
  }
 ],
 "metadata": {
  "kernelspec": {
   "display_name": "base",
   "language": "python",
   "name": "python3"
  },
  "language_info": {
   "codemirror_mode": {
    "name": "ipython",
    "version": 3
   },
   "file_extension": ".py",
   "mimetype": "text/x-python",
   "name": "python",
   "nbconvert_exporter": "python",
   "pygments_lexer": "ipython3",
   "version": "3.10.10"
  }
 },
 "nbformat": 4,
 "nbformat_minor": 2
}
