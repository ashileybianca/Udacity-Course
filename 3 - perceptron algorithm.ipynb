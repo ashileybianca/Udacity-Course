{
 "cells": [
  {
   "cell_type": "markdown",
   "metadata": {},
   "source": [
    "Coding the Perceptron Algorithm\n",
    "Time to code! In this quiz, you'll have the chance to implement the perceptron algorithm to separate the following data (given in the file data.csv)."
   ]
  },
  {
   "cell_type": "code",
   "execution_count": 1,
   "metadata": {},
   "outputs": [],
   "source": [
    "import numpy as np\n",
    "# Setting the random seed, feel free to change it and see different solutions.\n",
    "np.random.seed(42)\n",
    "\n",
    "def stepFunction(t):\n",
    "    if t >= 0:  \n",
    "        return 1 # yes\n",
    "    return 0 # no\n",
    "\n",
    "def prediction(X, W, b):  # na descrição diz que há w1 e w2 e x1 e x2.\n",
    "\n",
    "    return stepFunction((np.matmul(X,W)+b)[0]) \n",
    "    # multiplicação matricial de X * W\n",
    "    # np.matmul(X,W) = w1 * x1 + w2 * x2 + b\n",
    "    # X é uma matriz X = [x1, x2]\n",
    "    # W é uma matriz \n",
    "    # W = |w1 |\n",
    "    #     |w2 |\n",
    "    \n",
    "# TODO: Fill in the code below to implement the perceptron trick.\n",
    "# The function should receive as inputs the data X, the labels y,\n",
    "# the weights W (as an array), and the bias b,\n",
    "# update the weights and bias W, b, according to the perceptron algorithm,\n",
    "# and return W and b.\n",
    "def perceptronStep(X, y, W, b, learn_rate = 0.01):\n",
    "    # Fill in code\n",
    "    for i in range(len(X)):\n",
    "        \n",
    "        y_hat = prediction(X[i], W, b) #calcula a predicao para cada peso.\n",
    "        \n",
    "        #label y = o que é pra ser\n",
    "        # y_hat = predição\n",
    "        # para dar certo, precisaria dar 0, tipo 1-1 ou 0-0.\n",
    "        \n",
    "        if y[i] - y_hat == 1: # se y = 1 e y_hat = 0 então 1.\n",
    "        # deveria estar na parte de cima da linha, mas está na parte de baixo. SOMAR.\n",
    "            W[0] = W[0] + learn_rate * X[i][0]\n",
    "            W[1] = W[1] + learn_rate * X[i][1]\n",
    "            b = b + learn_rate\n",
    "    \n",
    "        if y[i] - y_hat == -1:# se y = 0 e y_hat = 1 então -1.\n",
    "        # deveria estar na parte de baixo da linha, mas está na parte de cima. SUBTRAIR.\n",
    "            W[0] = W[0] - learn_rate * X[i][0]\n",
    "            W[1] = W[1] - learn_rate * X[i][1]\n",
    "            b = b - learn_rate\n",
    "    return W, b\n",
    "    \n",
    "# This function runs the perceptron algorithm repeatedly on the dataset,\n",
    "# and returns a few of the boundary lines obtained in the iterations,\n",
    "# for plotting purposes.\n",
    "# Feel free to play with the learning rate and the num_epochs,\n",
    "# and see your results plotted below.\n",
    "def trainPerceptronAlgorithm(X, y, learn_rate = 0.01, num_epochs = 40):\n",
    "    x_min, x_max = min(X.T[0]), max(X.T[0])\n",
    "    y_min, y_max = min(X.T[1]), max(X.T[1])\n",
    "    W = np.array(np.random.rand(2,1))\n",
    "    b = np.random.rand(1)[0] + x_max\n",
    "    # These are the solution lines that get plotted below.\n",
    "    boundary_lines = []\n",
    "    for i in range(num_epochs):\n",
    "        # In each epoch, we apply the perceptron step.\n",
    "        W, b = perceptronStep(X, y, W, b, learn_rate)\n",
    "        boundary_lines.append((-W[0]/W[1], -b/W[1]))\n",
    "    return boundary_lines\n"
   ]
  },
  {
   "cell_type": "markdown",
   "metadata": {},
   "source": [
    "Nice! You got it all correct. Input 1 Input 2 Linear Combination Activation Output Is Correct 0 0 -1.5 0 Yes 0 1 -0.5 0 Yes 1 0 -0.5 0 Yes 1 1 0.5 1 Yes"
   ]
  }
 ],
 "metadata": {
  "kernelspec": {
   "display_name": "Python 3",
   "language": "python",
   "name": "python3"
  },
  "language_info": {
   "codemirror_mode": {
    "name": "ipython",
    "version": 3
   },
   "file_extension": ".py",
   "mimetype": "text/x-python",
   "name": "python",
   "nbconvert_exporter": "python",
   "pygments_lexer": "ipython3",
   "version": "3.10.10"
  }
 },
 "nbformat": 4,
 "nbformat_minor": 2
}
