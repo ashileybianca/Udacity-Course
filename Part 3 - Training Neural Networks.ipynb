{
 "cells": [
  {
   "attachments": {
    "image.png": {
     "image/png": "[encoded data removed]"
    }
   },
   "cell_type": "markdown",
   "metadata": {},
   "source": [
    "<h1>Training Neural Networks</h1>\n",
    "\n",
    "The network we built in the previous part isn't so smart, it doesn't know anything about our handwritten digits. Neural networks with non-linear activations work like universal function approximators. There is some function that maps your input to the output. For example, images of handwritten digits to class probabilities. The power of neural networks is that we can train them to approximate this function, and basically any function given enough data and compute time.\n",
    "\n",
    "![image.png](attachment:image.png)\n",
    "\n"
   ]
  },
  {
   "cell_type": "markdown",
   "metadata": {},
   "source": [
    "## Losses in PyTorch\n",
    "\n",
    "Let's start by seeing how we calculate the loss with PyTorch. Through the `nn` module, PyTorch provides losses such as the cross-entropy loss (`nn.CrossEntropyLoss`). You'll usually see the loss assigned to `criterion`. As noted in the last part, with a classification problem such as MNIST, we're using the softmax function to predict class probabilities. With a softmax output, you want to use cross-entropy as the loss. To actually calculate the loss, you first define the criterion then pass in the output of your network and the correct labels.\n",
    "\n",
    "Something really important to note here. Looking at [the documentation for `nn.CrossEntropyLoss`](https://pytorch.org/docs/stable/nn.html#torch.nn.CrossEntropyLoss),\n",
    "\n",
    "> This criterion combines `nn.LogSoftmax()` and `nn.NLLLoss()` in one single class.\n",
    ">\n",
    "> The input is expected to contain scores for each class.\n",
    "\n",
    "This means we need to pass in the raw output of our network into the loss, not the output of the softmax function. This raw output is usually called the *logits* or *scores*. We use the logits because softmax gives you probabilities which will often be very close to zero or one but floating-point numbers can't accurately represent values near zero or one ([read more here](https://docs.python.org/3/tutorial/floatingpoint.html)). It's usually best to avoid doing calculations with probabilities, typically we use log-probabilities."
   ]
  },
  {
   "cell_type": "code",
   "execution_count": 50,
   "metadata": {},
   "outputs": [],
   "source": [
    "# The MNIST datasets are hosted on yann.lecun.com that has moved under CloudFlare protection\n",
    "# Run this script to enable the datasets download\n",
    "# Reference: https://github.com/pytorch/vision/issues/1938\n",
    "\n",
    "from six.moves import urllib\n",
    "opener = urllib.request.build_opener()\n",
    "opener.addheaders = [('User-agent', 'Mozilla/5.0')]\n",
    "urllib.request.install_opener(opener)"
   ]
  },
  {
   "cell_type": "code",
   "execution_count": 51,
   "metadata": {},
   "outputs": [],
   "source": [
    "#Fazendo download do dataset do MNIST\n",
    "import torch\n",
    "from torch import nn\n",
    "import torch.nn.functional as F\n",
    "from torchvision import datasets, transforms\n",
    "\n",
    "# Define a transform to normalize the data\n",
    "transform = transforms.Compose([transforms.ToTensor(),\n",
    "                                transforms.Normalize((0.5,), (0.5,)),\n",
    "                              ])\n",
    "# Download and load the training data\n",
    "trainset = datasets.MNIST('~/.pytorch/MNIST_data/', download=True, train=True, transform=transform)\n",
    "trainloader = torch.utils.data.DataLoader(trainset, batch_size=64, shuffle=True)"
   ]
  },
  {
   "cell_type": "markdown",
   "metadata": {},
   "source": [
    "Um DataLoader é uma classe em PyTorch que fornece uma interface conveniente para iterar sobre conjuntos de dados durante o treinamento ou teste de modelos de aprendizado de máquina, especialmente em tarefas de aprendizado supervisionado, como classificação ou regressão.\n",
    "\n",
    "Especificamente, um DataLoader é usado para carregar os dados de um conjunto de dados e agrupá-los em lotes (batches). Isso é útil porque durante o treinamento de modelos de aprendizado de máquina, os dados geralmente são processados em lotes, não de forma individual."
   ]
  },
  {
   "cell_type": "code",
   "execution_count": 52,
   "metadata": {},
   "outputs": [
    {
     "name": "stdout",
     "output_type": "stream",
     "text": [
      "tensor(2.3507, grad_fn=<NllLossBackward0>)\n"
     ]
    }
   ],
   "source": [
    "# Build a feed-forward network\n",
    "# Construção da Rede Neural:\n",
    "model = nn.Sequential(nn.Linear(784, 128),\n",
    "                      nn.ReLU(),\n",
    "                      nn.Linear(128, 64),\n",
    "                      nn.ReLU(),\n",
    "                      nn.Linear(64, 10))\n",
    "\n",
    "# Isso cria uma rede neural com três camadas lineares (fully connected) intercaladas com funções de ativação ReLU.\n",
    "\n",
    "# Definição da Função de Perda:\n",
    "criterion = nn.CrossEntropyLoss()\n",
    "# Aqui, é definida a função de perda CrossEntropyLoss, que é comumente usada em\n",
    "# problemas de classificação multiclasse. Esta função de perda combina uma função de \n",
    "# softmax com a função de entropia cruzada (cross-entropy), que é uma medida de\n",
    "# quão bem o modelo de classificação está realizando. (logs)\n",
    "\n",
    "# Obtenção dos Dados de Treinamento:\n",
    "dataiter = iter(trainloader)\n",
    "images, labels = next(dataiter)\n",
    "# Aqui, iter(trainloader) cria um iterador para o trainloader, \n",
    "# que é o DataLoader que contém os dados de treinamento. \n",
    "# next(dataiter) obtém o próximo lote de dados de treinamento, \n",
    "# que consiste em imagens (images) e seus rótulos correspondentes (labels).\n",
    "\n",
    "# Processamento dos Dados:\n",
    "images = images.view(images.shape[0], -1)\n",
    "# Como as imagens estão no formato (batch_size, 1, 28, 28), esta linha redimensiona\n",
    "# as imagens para que elas tenham a forma (batch_size, 784), para que possam ser \n",
    "# usadas como entrada para a rede neural.\n",
    "\n",
    "# Passagem para Frente (Forward Pass):\n",
    "logits = model(images)\n",
    "# Isso realiza uma passagem para frente pela rede neural, onde as imagens\n",
    "# são passadas pela rede e as previsões (logits) são calculadas.\n",
    "\n",
    "# Calculate the loss with the logits and the labels\n",
    "# Cálculo da Perda:\n",
    "loss = criterion(logits, labels)\n",
    "# Aqui, a função de perda é calculada comparando as previsões (logits) com os \n",
    "# rótulos verdadeiros (labels). A função CrossEntropyLoss já inclui a aplicação da \n",
    "# função softmax e o cálculo da entropia cruzada, portanto, não é necessário aplicar \n",
    "# a função softmax explicitamente na saída do modelo.\n",
    "\n",
    "print(loss)\n",
    "# Imprime o valor da perda calculada para o lote de dados de treinamento atual."
   ]
  },
  {
   "cell_type": "markdown",
   "metadata": {},
   "source": [
    "`Exercise:` Construa um modelo que retorne o log-softmax como saída e calcule a perda utilizando a perda de log-verossimilhança negativa (negative log likelihood loss). Note que para nn.LogSoftmax e F.log_softmax, você precisará definir corretamente o argumento de palavra-chave dim. dim=0 calcula o softmax pelas linhas, de modo que cada coluna some para 1, enquanto dim=1 calcula pelas colunas, de modo que cada linha some para 1. Pense sobre o que você deseja que a saída seja e escolha dim apropriadamente."
   ]
  },
  {
   "cell_type": "code",
   "execution_count": 53,
   "metadata": {},
   "outputs": [
    {
     "name": "stdout",
     "output_type": "stream",
     "text": [
      "tensor(2.3164, grad_fn=<NllLossBackward0>)\n"
     ]
    }
   ],
   "source": [
    "# TODO: Build a feed-forward network\n",
    "model = nn.Sequential(nn.Linear(784, 128),\n",
    "                      nn.ReLU(),\n",
    "                      nn.Linear(128, 64),\n",
    "                      nn.ReLU(),\n",
    "                      nn.Linear(64, 10),\n",
    "                      nn.LogSoftmax(dim=1))  # Modificando a última camada para retornar log-softmax\n",
    "\n",
    "# Para cada linha (ou amostra) de logits, a log-softmax será calculada, garantindo que  a operação de \n",
    "# log-softmax normaliza os logits para que, após a exponenciação e a normalização, eles representem as\n",
    "# probabilidades logarítmicas para cada classe. Essas probabilidades estarão na faixa de 0 a 1\n",
    "\n",
    "# Portanto, nn.LogSoftmax(dim=1) é uma camada que aplica a operação de log-softmax aos logits de\n",
    "# saída da rede neural ao longo da dimensão especificada. Essa camada é comumente usada como a última \n",
    "# camada de uma rede neural em problemas de classificação, quando a saída da rede precisa ser convertida \n",
    "# em probabilidades normalizadas para cada classe.\n",
    "\n",
    "# TODO: Define the loss\n",
    "criterion = nn.NLLLoss()\n",
    "# With a log-softmax output, you want to use the negative log likelihood loss, nn.NLLLoss\n",
    "# Usando a perda de log-verossimilhança negativa\n",
    "\n",
    "### Run this to check your work\n",
    "# Get our data\n",
    "dataiter = iter(trainloader)\n",
    "\n",
    "images, labels = next(dataiter)\n",
    "\n",
    "# Flatten images\n",
    "images = images.view(images.shape[0], -1)\n",
    "\n",
    "# Forward pass, get our logits\n",
    "logits = model(images) #log probabilidades\n",
    "# Calculate the loss with the logits and the labels\n",
    "loss = criterion(logits, labels)\n",
    "\n",
    "print(loss)"
   ]
  },
  {
   "cell_type": "markdown",
   "metadata": {},
   "source": [
    "Os \"logits\" são os valores de saída brutos gerados pela última camada de uma rede neural antes da aplicação de uma função de ativação. Em problemas de classificação, os logits representam as pontuações associadas a cada classe possível.\n",
    "\n",
    "Os logits não representam diretamente as probabilidades de cada classe (por exemplo, de 0 a 9), mas sim uma medida da \"confiança\" da rede neural de que a entrada pertence a cada classe. Os valores de logits não são restritos ao intervalo de 0 a 1, como as probabilidades, e podem assumir qualquer valor real.\n",
    "\n",
    "Por exemplo, suponha que tenhamos um problema de classificação com 3 classes (A, B e C) e a saída da última camada da rede neural seja uma lista de logits [2.3, -1.1, 0.5]. Isso significa que a rede neural atribui uma \"pontuação\" de 2.3 para a classe A, -1.1 para a classe B e 0.5 para a classe C.\n",
    "\n",
    "Após a obtenção dos logits, aplicamos uma função de ativação para transformá-los em probabilidades. Uma função comum para isso é a função softmax, que normaliza os logits de forma que as probabilidades somem para 1. Portanto, os logits não representam diretamente as probabilidades de cada classe, mas sim as pontuações associadas a cada classe antes da normalização."
   ]
  },
  {
   "cell_type": "markdown",
   "metadata": {},
   "source": [
    "## Autograd\n",
    "\n",
    "Now that we know how to calculate a loss, how do we use it to perform backpropagation? Torch provides a module, `autograd`, for automatically calculating the gradients of tensors. We can use it to calculate the gradients of all our parameters with respect to the loss. Autograd works by keeping track of operations performed on tensors, then going backwards through those operations, calculating gradients along the way. To make sure PyTorch keeps track of operations on a tensor and calculates the gradients, you need to set `requires_grad = True` on a tensor. You can do this at creation with the `requires_grad` keyword, or at any time with `x.requires_grad_(True)`.\n",
    "\n",
    "You can turn off gradients for a block of code with the `torch.no_grad()` content:\n",
    "```python\n",
    "x = torch.zeros(1, requires_grad=True)\n",
    ">>> with torch.no_grad():\n",
    "...     y = x * 2\n",
    ">>> y.requires_grad\n",
    "False\n",
    "```\n",
    "\n",
    "Also, you can turn on or off gradients altogether with `torch.set_grad_enabled(True|False)`.\n",
    "\n",
    "The gradients are computed with respect to some variable `z` with `z.backward()`. This does a backward pass through the operations that created `z`."
   ]
  },
  {
   "cell_type": "markdown",
   "metadata": {},
   "source": [
    "## notas\n",
    "requires_grad=True diz para o PyTorch rastrear as operações nesse tensor x, assim, caso você queira o gradiente ele irá calcular para você.\n",
    "\n",
    "Basicamente, é assim que funciona:\n",
    "\n",
    "você cria seu tensor, seta requires_grad=True e executa operações nele.\n",
    "quando você terminar as operações, digite z.backward()\n",
    "\n",
    "O PyTorch sabe que os gradientes devem ser calculados em relação aos tensores que têm requires_grad=True. Quando chamamos z.backward(), estamos essencialmente dizendo ao PyTorch para calcular os gradientes de z em relação a todos os tensores que têm requires_grad=True.\n",
    "\n",
    "No exemplo fornecido, z é uma função da variável x (ou seja, z depende de x). Como x tem requires_grad=True, o PyTorch rastreia todas as operações realizadas em x para calcular z. Quando chamamos z.backward(), o PyTorch sabe que deve calcular os gradientes de z em relação a x, porque x foi usado para calcular z."
   ]
  },
  {
   "cell_type": "code",
   "execution_count": 54,
   "metadata": {},
   "outputs": [
    {
     "name": "stdout",
     "output_type": "stream",
     "text": [
      "tensor([[ 1.3267, -1.4178],\n",
      "        [-1.1249,  1.0917]], requires_grad=True)\n"
     ]
    }
   ],
   "source": [
    "x = torch.randn(2,2, requires_grad=True) \n",
    "# Cria um tensor x de forma (2,2) com valores aleatórios e define requires_grad=True para rastrear as operações nele.\n",
    "print(x)"
   ]
  },
  {
   "cell_type": "code",
   "execution_count": 55,
   "metadata": {},
   "outputs": [
    {
     "name": "stdout",
     "output_type": "stream",
     "text": [
      "tensor([[1.7602, 2.0102],\n",
      "        [1.2654, 1.1918]], grad_fn=<PowBackward0>)\n"
     ]
    }
   ],
   "source": [
    "y = x**2\n",
    "#  Calcula o quadrado de cada elemento em x.\n",
    "print(y)"
   ]
  },
  {
   "cell_type": "code",
   "execution_count": 56,
   "metadata": {},
   "outputs": [
    {
     "name": "stdout",
     "output_type": "stream",
     "text": [
      "<PowBackward0 object at 0x7fa218d12a10>\n"
     ]
    }
   ],
   "source": [
    "\n",
    "## grad_fn shows the function that generated this variable\n",
    "print(y.grad_fn)\n",
    "# Imprime a função que gerou y, que neste caso é a função de potência."
   ]
  },
  {
   "cell_type": "code",
   "execution_count": 57,
   "metadata": {},
   "outputs": [
    {
     "name": "stdout",
     "output_type": "stream",
     "text": [
      "tensor(1.5569, grad_fn=<MeanBackward0>)\n"
     ]
    }
   ],
   "source": [
    "z = y.mean()\n",
    "#  Calcula a média de todos os elementos em y.\n",
    "print(z)"
   ]
  },
  {
   "cell_type": "code",
   "execution_count": 58,
   "metadata": {},
   "outputs": [
    {
     "name": "stdout",
     "output_type": "stream",
     "text": [
      "None\n"
     ]
    }
   ],
   "source": [
    "\n",
    "print(x.grad)\n",
    "# Imprime os gradientes de x até este momento. Como nenhum cálculo de gradiente foi feito ainda, isso resultará em None."
   ]
  },
  {
   "cell_type": "code",
   "execution_count": 59,
   "metadata": {},
   "outputs": [
    {
     "name": "stdout",
     "output_type": "stream",
     "text": [
      "tensor([[ 0.6634, -0.7089],\n",
      "        [-0.5625,  0.5459]])\n",
      "tensor([[ 0.6634, -0.7089],\n",
      "        [-0.5625,  0.5459]], grad_fn=<DivBackward0>)\n"
     ]
    }
   ],
   "source": [
    "z.backward() # Calcula os gradientes de z em relação a x.\n",
    "print(x.grad) \n",
    "#  Imprime os gradientes de x após o cálculo. Isso agora terá valores, representando os gradientes de z em relação a x.\n",
    "print(x/2)\n",
    "#  Imprime x dividido por 2. Isso serve para verificarmos manualmente se os gradientes estão corretos. \n",
    "# Os gradientes calculados por backward() devem ser metade dos valores de x, \n",
    "# já que a média de y é calculada a partir de x ao quadrado."
   ]
  },
  {
   "cell_type": "markdown",
   "metadata": {},
   "source": [
    "## Loss and Autograd together\n",
    "\n",
    "When we create a network with PyTorch, all of the parameters are initialized with `requires_grad = True`. This means that when we calculate the loss and call `loss.backward()`, the gradients for the parameters are calculated. These gradients are used to update the weights with gradient descent. Below you can see an example of calculating the gradients using a backwards pass."
   ]
  },
  {
   "cell_type": "code",
   "execution_count": 60,
   "metadata": {},
   "outputs": [],
   "source": [
    "# Build a feed-forward network\n",
    "model = nn.Sequential(nn.Linear(784, 128),\n",
    "                      nn.ReLU(),\n",
    "                      nn.Linear(128, 64),\n",
    "                      nn.ReLU(),\n",
    "                      nn.Linear(64, 10),\n",
    "                      nn.LogSoftmax(dim=1))\n",
    "\n",
    "criterion = nn.NLLLoss()\n",
    "dataiter = iter(trainloader)\n",
    "images, labels = next(dataiter)\n",
    "images = images.view(images.shape[0], -1)\n",
    "\n",
    "logits = model(images)\n",
    "loss = criterion(logits, labels)"
   ]
  },
  {
   "cell_type": "code",
   "execution_count": 61,
   "metadata": {},
   "outputs": [
    {
     "name": "stdout",
     "output_type": "stream",
     "text": [
      "Before backward pass: \n",
      " None\n",
      "After backward pass: \n",
      " tensor([[ 0.0043,  0.0043,  0.0043,  ...,  0.0043,  0.0043,  0.0043],\n",
      "        [ 0.0006,  0.0006,  0.0006,  ...,  0.0006,  0.0006,  0.0006],\n",
      "        [-0.0009, -0.0009, -0.0009,  ..., -0.0009, -0.0009, -0.0009],\n",
      "        ...,\n",
      "        [ 0.0012,  0.0012,  0.0012,  ...,  0.0012,  0.0012,  0.0012],\n",
      "        [-0.0029, -0.0029, -0.0029,  ..., -0.0029, -0.0029, -0.0029],\n",
      "        [ 0.0004,  0.0004,  0.0004,  ...,  0.0004,  0.0004,  0.0004]])\n"
     ]
    }
   ],
   "source": [
    "print('Before backward pass: \\n', model[0].weight.grad)\n",
    "\n",
    "loss.backward()\n",
    "\n",
    "print('After backward pass: \\n', model[0].weight.grad)"
   ]
  },
  {
   "cell_type": "markdown",
   "metadata": {},
   "source": [
    "Podemos usar esses gradientes para treinar nossa rede neural!"
   ]
  },
  {
   "cell_type": "markdown",
   "metadata": {},
   "source": [
    "## Training the network!\n",
    "\n",
    "There's one last piece we need to start training, an optimizer that we'll use to update the weights with the gradients. We get these from PyTorch's [`optim` package](https://pytorch.org/docs/stable/optim.html). For example we can use stochastic gradient descent with `optim.SGD`. You can see how to define an optimizer below."
   ]
  },
  {
   "cell_type": "code",
   "execution_count": 62,
   "metadata": {},
   "outputs": [],
   "source": [
    "from torch import optim\n",
    "\n",
    "# Optimizers require the parameters to optimize and a learning rate\n",
    "optimizer = optim.SGD(model.parameters(), lr=0.01)"
   ]
  },
  {
   "cell_type": "markdown",
   "metadata": {},
   "source": [
    "Now we know how to use all the individual parts so it's time to see how they work together. Let's consider just one learning step before looping through all the data. The general process with PyTorch:\n",
    "\n",
    "* Make a forward pass through the network \n",
    "* Use the network output to calculate the loss\n",
    "* Perform a backward pass through the network with `loss.backward()` to calculate the gradients\n",
    "* Take a step with the optimizer to update the weights\n",
    "\n",
    "Below I'll go through one training step and print out the weights and gradients so you can see how it changes. Note that I have a line of code `optimizer.zero_grad()`. When you do multiple backwards passes with the same parameters, the gradients are accumulated. This means that you need to zero the gradients on each training pass or you'll retain gradients from previous training batches."
   ]
  },
  {
   "cell_type": "code",
   "execution_count": 66,
   "metadata": {},
   "outputs": [
    {
     "name": "stdout",
     "output_type": "stream",
     "text": [
      "Initial weights -  Parameter containing:\n",
      "tensor([[ 0.0328, -0.0165, -0.0145,  ...,  0.0069, -0.0026,  0.0036],\n",
      "        [-0.0139, -0.0071,  0.0115,  ..., -0.0034, -0.0156, -0.0291],\n",
      "        [-0.0089,  0.0224, -0.0111,  ...,  0.0061,  0.0126, -0.0344],\n",
      "        ...,\n",
      "        [-0.0253, -0.0145,  0.0276,  ..., -0.0260, -0.0328, -0.0111],\n",
      "        [ 0.0255, -0.0068, -0.0173,  ..., -0.0134, -0.0036,  0.0016],\n",
      "        [ 0.0211, -0.0131, -0.0321,  ...,  0.0304, -0.0282, -0.0217]],\n",
      "       requires_grad=True)\n",
      "Gradient - tensor([[ 0.0006,  0.0006,  0.0006,  ...,  0.0006,  0.0006,  0.0006],\n",
      "        [-0.0047, -0.0047, -0.0047,  ..., -0.0047, -0.0047, -0.0047],\n",
      "        [-0.0026, -0.0026, -0.0026,  ..., -0.0026, -0.0026, -0.0026],\n",
      "        ...,\n",
      "        [-0.0009, -0.0009, -0.0009,  ..., -0.0009, -0.0009, -0.0009],\n",
      "        [-0.0018, -0.0018, -0.0018,  ..., -0.0018, -0.0018, -0.0018],\n",
      "        [ 0.0035,  0.0035,  0.0035,  ...,  0.0035,  0.0035,  0.0035]])\n"
     ]
    }
   ],
   "source": [
    "print('Initial weights - ', model[0].weight)\n",
    "\n",
    "dataiter = iter(trainloader)\n",
    "images, labels = next(dataiter)\n",
    "images.resize_(64, 784)\n",
    "\n",
    "# zera os gradientes antes de iniciar um novo passo de treinamento.\n",
    "# Isso é necessário porque os gradientes são acumulados a cada chamada de backward(), \n",
    "# e se não forem zerados, os gradientes acumulados de lotes anteriores afetarão os\n",
    "# cálculos de gradiente para lotes futuros.\n",
    "optimizer.zero_grad()\n",
    "\n",
    "# Forward pass, then backward pass, then update weights\n",
    "output = model(images) # MODEL DEFINIDO ANTES!\n",
    "loss = criterion(output, labels)\n",
    "# CRITERION (FUNÇÃO DE PERDA) DEFINIDO ANTES!\n",
    "# Calcula a perda (loss) usando as previsões do modelo (output) e os rótulos verdadeiros (labels). \n",
    "\n",
    "loss.backward()\n",
    "# Executa uma passagem para trás através da rede neural. \n",
    "# Isso calcula os gradientes de todas as variáveis que têm requires_grad=True com relação à perda (loss). \n",
    "# Esses gradientes são usados para atualizar os pesos da rede neural durante a etapa de otimização.\n",
    "\n",
    "print('Gradient -', model[0].weight.grad)\n",
    "# imprime os gradientes dos pesos da primeira camada linear da rede neural após a chamada \n",
    "# de backward(). Isso permite visualizar como os gradientes dos pesos estão mudando ao longo do\n",
    "# treinamento. Isso é útil para entender como os pesos estão sendo ajustados durante o treinamento da rede neural."
   ]
  },
  {
   "cell_type": "code",
   "execution_count": 67,
   "metadata": {},
   "outputs": [
    {
     "name": "stdout",
     "output_type": "stream",
     "text": [
      "Updated weights -  Parameter containing:\n",
      "tensor([[ 0.0328, -0.0165, -0.0145,  ...,  0.0069, -0.0026,  0.0035],\n",
      "        [-0.0139, -0.0070,  0.0115,  ..., -0.0033, -0.0156, -0.0291],\n",
      "        [-0.0089,  0.0224, -0.0111,  ...,  0.0061,  0.0126, -0.0344],\n",
      "        ...,\n",
      "        [-0.0253, -0.0145,  0.0276,  ..., -0.0260, -0.0328, -0.0111],\n",
      "        [ 0.0255, -0.0068, -0.0173,  ..., -0.0134, -0.0036,  0.0016],\n",
      "        [ 0.0210, -0.0132, -0.0321,  ...,  0.0304, -0.0282, -0.0217]],\n",
      "       requires_grad=True)\n"
     ]
    }
   ],
   "source": [
    "# Take an update step and view the new weights\n",
    "optimizer.step()\n",
    "# atualiza os pesos da rede neural usando o otimizador. \n",
    "# O otimizador ajusta os pesos com base nos gradientes calculados durante a passagem para trás.\n",
    "\n",
    "print('Updated weights - ', model[0].weight)"
   ]
  },
  {
   "cell_type": "markdown",
   "metadata": {},
   "source": [
    "### Training for real\n",
    "\n",
    "Now we'll put this algorithm into a loop so we can go through all the images. Some nomenclature, one pass through the entire dataset is called an *epoch*. So here we're going to loop through `trainloader` to get our training batches. For each batch, we'll be doing a training pass where we calculate the loss, do a backwards pass, and update the weights.\n",
    "\n",
    ">**Exercise:** Implement the training pass for our network. If you implemented it correctly, you should see the training loss drop with each epoch."
   ]
  },
  {
   "cell_type": "code",
   "execution_count": 70,
   "metadata": {},
   "outputs": [
    {
     "name": "stdout",
     "output_type": "stream",
     "text": [
      "Training loss: 1.9395466408749888\n",
      "Training loss: 0.9106576813500065\n",
      "Training loss: 0.5522416554280182\n",
      "Training loss: 0.4411144864235097\n",
      "Training loss: 0.38859818743935015\n"
     ]
    }
   ],
   "source": [
    "## Your solution here\n",
    "\n",
    "model = nn.Sequential(nn.Linear(784, 128),\n",
    "                      nn.ReLU(),\n",
    "                      nn.Linear(128, 64),\n",
    "                      nn.ReLU(),\n",
    "                      nn.Linear(64, 10),\n",
    "                      nn.LogSoftmax(dim=1))\n",
    "\n",
    "criterion = nn.NLLLoss()\n",
    "optimizer = optim.SGD(model.parameters(), lr=0.003)\n",
    "\n",
    "epochs = 5\n",
    "for e in range(epochs):\n",
    "    running_loss = 0\n",
    "    for images, labels in trainloader:\n",
    "        # Flatten MNIST images into a 784 long vector\n",
    "        images = images.view(images.shape[0], -1)\n",
    "    \n",
    "        # TODO: Training pass\n",
    "        optimizer.zero_grad()\n",
    "        \n",
    "        output = model(images)\n",
    "        loss = criterion(output, labels)\n",
    "        loss.backward()\n",
    "        \n",
    "        optimizer.step()\n",
    "        \n",
    "        running_loss += loss.item()\n",
    "    else:\n",
    "        print(f\"Training loss: {running_loss/len(trainloader)}\")"
   ]
  },
  {
   "cell_type": "markdown",
   "metadata": {},
   "source": [
    "With the network trained, we can check out it's predictions."
   ]
  },
  {
   "cell_type": "code",
   "execution_count": 71,
   "metadata": {},
   "outputs": [
    {
     "data": {
      "image/png": "[encoded data removed]",
      "text/plain": [
       "<Figure size 600x900 with 2 Axes>"
      ]
     },
     "metadata": {},
     "output_type": "display_data"
    }
   ],
   "source": [
    "%matplotlib inline\n",
    "import helper\n",
    "\n",
    "dataiter = iter(trainloader)\n",
    "images, labels = next(dataiter)\n",
    "\n",
    "img = images[0].view(1, 784)\n",
    "# Turn off gradients to speed up this part\n",
    "with torch.no_grad():\n",
    "    logps = model(img)\n",
    "\n",
    "# Output of the network are log-probabilities, need to take exponential for probabilities\n",
    "ps = torch.exp(logps)\n",
    "helper.view_classify(img.view(1, 28, 28), ps)"
   ]
  }
 ],
 "metadata": {
  "kernelspec": {
   "display_name": "base",
   "language": "python",
   "name": "python3"
  },
  "language_info": {
   "codemirror_mode": {
    "name": "ipython",
    "version": 3
   },
   "file_extension": ".py",
   "mimetype": "text/x-python",
   "name": "python",
   "nbconvert_exporter": "python",
   "pygments_lexer": "ipython3",
   "version": "3.10.10"
  }
 },
 "nbformat": 4,
 "nbformat_minor": 2
}
