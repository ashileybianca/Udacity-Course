{
 "cells": [
  {
   "cell_type": "code",
   "execution_count": 1,
   "metadata": {},
   "outputs": [],
   "source": [
    "import numpy as np\n",
    "\n",
    "# Write a function that takes as input two lists Y, P,\n",
    "# and returns the float corresponding to their cross-entropy.\n",
    "def cross_entropy(Y, P):\n",
    "    Y = np.float_(Y)\n",
    "    P = np.float_(P)\n",
    "    \n",
    "    cross_entropy = 0.0\n",
    "    \n",
    "    for y, p in zip(Y, P): # para cada elemento\n",
    "        cross_entropy  += - (y * np.log(p) + (1 - y) * np.log(1 - p))\n",
    "    \n",
    "    return cross_entropy \n",
    "        \n",
    "    \n",
    "        "
   ]
  },
  {
   "cell_type": "markdown",
   "metadata": {},
   "source": [
    "Nice! You got it all correct. Input 1 Input 2 Linear Combination Activation Output Is Correct 0 0 -1.5 0 Yes 0 1 -0.5 0 Yes 1 0 -0.5 0 Yes 1 1 0.5 1 Yes"
   ]
  }
 ],
 "metadata": {
  "kernelspec": {
   "display_name": "Python 3",
   "language": "python",
   "name": "python3"
  },
  "language_info": {
   "codemirror_mode": {
    "name": "ipython",
    "version": 3
   },
   "file_extension": ".py",
   "mimetype": "text/x-python",
   "name": "python",
   "nbconvert_exporter": "python",
   "pygments_lexer": "ipython3",
   "version": "3.10.10"
  }
 },
 "nbformat": 4,
 "nbformat_minor": 2
}
